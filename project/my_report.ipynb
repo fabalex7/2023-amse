{
 "cells": [
  {
   "attachments": {},
   "cell_type": "markdown",
   "metadata": {},
   "source": [
    "# Bicycle traffic on rainy days"
   ]
  },
  {
   "attachments": {},
   "cell_type": "markdown",
   "metadata": {},
   "source": [
    "This projects analyzes the relationship of precipitation and bicycle traffic in the city of Münster, Germany. Münster is a medium-sized with a lot of students and known for its bicycle-friendliness. At the same time, the region is also known for its high amount of precipitation throughout the year. Therefore, the idea is to investigate whether the available data shows an influence of the precipitation amount on the number of counted bicycles. "
   ]
  },
  {
   "attachments": {},
   "cell_type": "markdown",
   "metadata": {},
   "source": [
    "The first data source was provided via the mobilithek, a data platform hosted by the Federal Ministry for Digital and Transport. The city of Münster provides daily, 15-min intervall countings of bicycles at certain streets throughout the city."
   ]
  }
 ],
 "metadata": {
  "language_info": {
   "name": "python"
  },
  "orig_nbformat": 4
 },
 "nbformat": 4,
 "nbformat_minor": 2
}
