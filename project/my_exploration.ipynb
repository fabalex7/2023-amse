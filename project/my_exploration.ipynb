{
 "cells": [
  {
   "cell_type": "code",
   "execution_count": 1,
   "id": "71615d8d",
   "metadata": {},
   "outputs": [],
   "source": [
    "import pandas as pd\n",
    "import matplotlib.pyplot as plt"
   ]
  },
  {
   "attachments": {},
   "cell_type": "markdown",
   "id": "4f8da64c",
   "metadata": {},
   "source": [
    "## Cycling data"
   ]
  },
  {
   "cell_type": "code",
   "execution_count": 2,
   "id": "3d4b848b",
   "metadata": {},
   "outputs": [],
   "source": [
    "df_cycling = pd.read_sql_table('cycling', 'sqlite:///data/my_data.sqlite', index_col=[\"Datetime\"], parse_dates=[\"Datetime\"])"
   ]
  },
  {
   "cell_type": "code",
   "execution_count": 3,
   "id": "0515ee2c",
   "metadata": {},
   "outputs": [
    {
     "data": {
      "text/html": [
       "<div>\n",
       "<style scoped>\n",
       "    .dataframe tbody tr th:only-of-type {\n",
       "        vertical-align: middle;\n",
       "    }\n",
       "\n",
       "    .dataframe tbody tr th {\n",
       "        vertical-align: top;\n",
       "    }\n",
       "\n",
       "    .dataframe thead th {\n",
       "        text-align: right;\n",
       "    }\n",
       "</style>\n",
       "<table border=\"1\" class=\"dataframe\">\n",
       "  <thead>\n",
       "    <tr style=\"text-align: right;\">\n",
       "      <th></th>\n",
       "      <th>index</th>\n",
       "      <th>100035541 (Neutor)</th>\n",
       "      <th>101035541 (Neutor stadteinwärts)</th>\n",
       "      <th>102035541 (Neutor stadtauswärts)</th>\n",
       "      <th>100035541-status</th>\n",
       "      <th>101035541-status</th>\n",
       "      <th>102035541-status</th>\n",
       "    </tr>\n",
       "    <tr>\n",
       "      <th>Datetime</th>\n",
       "      <th></th>\n",
       "      <th></th>\n",
       "      <th></th>\n",
       "      <th></th>\n",
       "      <th></th>\n",
       "      <th></th>\n",
       "      <th></th>\n",
       "    </tr>\n",
       "  </thead>\n",
       "  <tbody>\n",
       "    <tr>\n",
       "      <th>2020-04-01 00:00:00</th>\n",
       "      <td>0</td>\n",
       "      <td>4</td>\n",
       "      <td>0</td>\n",
       "      <td>4</td>\n",
       "      <td>0</td>\n",
       "      <td>0</td>\n",
       "      <td>0</td>\n",
       "    </tr>\n",
       "    <tr>\n",
       "      <th>2020-04-01 00:15:00</th>\n",
       "      <td>1</td>\n",
       "      <td>3</td>\n",
       "      <td>1</td>\n",
       "      <td>2</td>\n",
       "      <td>0</td>\n",
       "      <td>0</td>\n",
       "      <td>0</td>\n",
       "    </tr>\n",
       "    <tr>\n",
       "      <th>2020-04-01 00:30:00</th>\n",
       "      <td>2</td>\n",
       "      <td>2</td>\n",
       "      <td>2</td>\n",
       "      <td>0</td>\n",
       "      <td>0</td>\n",
       "      <td>0</td>\n",
       "      <td>0</td>\n",
       "    </tr>\n",
       "    <tr>\n",
       "      <th>2020-04-01 00:45:00</th>\n",
       "      <td>3</td>\n",
       "      <td>7</td>\n",
       "      <td>2</td>\n",
       "      <td>5</td>\n",
       "      <td>0</td>\n",
       "      <td>0</td>\n",
       "      <td>0</td>\n",
       "    </tr>\n",
       "    <tr>\n",
       "      <th>2020-04-01 01:00:00</th>\n",
       "      <td>4</td>\n",
       "      <td>2</td>\n",
       "      <td>2</td>\n",
       "      <td>0</td>\n",
       "      <td>0</td>\n",
       "      <td>0</td>\n",
       "      <td>0</td>\n",
       "    </tr>\n",
       "  </tbody>\n",
       "</table>\n",
       "</div>"
      ],
      "text/plain": [
       "                     index  100035541 (Neutor)  \\\n",
       "Datetime                                         \n",
       "2020-04-01 00:00:00      0                   4   \n",
       "2020-04-01 00:15:00      1                   3   \n",
       "2020-04-01 00:30:00      2                   2   \n",
       "2020-04-01 00:45:00      3                   7   \n",
       "2020-04-01 01:00:00      4                   2   \n",
       "\n",
       "                     101035541 (Neutor stadteinwärts)  \\\n",
       "Datetime                                                \n",
       "2020-04-01 00:00:00                                 0   \n",
       "2020-04-01 00:15:00                                 1   \n",
       "2020-04-01 00:30:00                                 2   \n",
       "2020-04-01 00:45:00                                 2   \n",
       "2020-04-01 01:00:00                                 2   \n",
       "\n",
       "                     102035541 (Neutor stadtauswärts)  100035541-status  \\\n",
       "Datetime                                                                  \n",
       "2020-04-01 00:00:00                                 4                 0   \n",
       "2020-04-01 00:15:00                                 2                 0   \n",
       "2020-04-01 00:30:00                                 0                 0   \n",
       "2020-04-01 00:45:00                                 5                 0   \n",
       "2020-04-01 01:00:00                                 0                 0   \n",
       "\n",
       "                     101035541-status  102035541-status  \n",
       "Datetime                                                 \n",
       "2020-04-01 00:00:00                 0                 0  \n",
       "2020-04-01 00:15:00                 0                 0  \n",
       "2020-04-01 00:30:00                 0                 0  \n",
       "2020-04-01 00:45:00                 0                 0  \n",
       "2020-04-01 01:00:00                 0                 0  "
      ]
     },
     "execution_count": 3,
     "metadata": {},
     "output_type": "execute_result"
    }
   ],
   "source": [
    "df_cycling.head()"
   ]
  },
  {
   "cell_type": "code",
   "execution_count": 4,
   "id": "5182e466",
   "metadata": {},
   "outputs": [
    {
     "data": {
      "text/plain": [
       "DatetimeIndex(['2020-04-01 00:00:00', '2020-04-01 00:15:00',\n",
       "               '2020-04-01 00:30:00', '2020-04-01 00:45:00',\n",
       "               '2020-04-01 01:00:00', '2020-04-01 01:15:00',\n",
       "               '2020-04-01 01:30:00', '2020-04-01 01:45:00',\n",
       "               '2020-04-01 02:00:00', '2020-04-01 02:15:00',\n",
       "               ...\n",
       "               '2020-04-30 21:30:00', '2020-04-30 21:45:00',\n",
       "               '2020-04-30 22:00:00', '2020-04-30 22:15:00',\n",
       "               '2020-04-30 22:30:00', '2020-04-30 22:45:00',\n",
       "               '2020-04-30 23:00:00', '2020-04-30 23:15:00',\n",
       "               '2020-04-30 23:30:00', '2020-04-30 23:45:00'],\n",
       "              dtype='datetime64[ns]', name='Datetime', length=2880, freq=None)"
      ]
     },
     "execution_count": 4,
     "metadata": {},
     "output_type": "execute_result"
    }
   ],
   "source": [
    "df_cycling.index"
   ]
  },
  {
   "cell_type": "code",
   "execution_count": null,
   "id": "83e80146",
   "metadata": {},
   "outputs": [],
   "source": [
    "df_cycling.index.max() - df_cycling.index.min()"
   ]
  },
  {
   "cell_type": "code",
   "execution_count": null,
   "id": "f98e7e6f",
   "metadata": {},
   "outputs": [],
   "source": [
    "df_cycling.groupby(df_cycling[\"Datetime\"].dt.day)[\"100035541 (Neutor)\"].sum()"
   ]
  },
  {
   "cell_type": "code",
   "execution_count": 5,
   "id": "c9c8d5f2",
   "metadata": {},
   "outputs": [],
   "source": [
    "april_bikes = df_cycling.resample(\"1D\").sum()[\"100035541 (Neutor)\"]"
   ]
  },
  {
   "cell_type": "code",
   "execution_count": 6,
   "id": "d5b25c00",
   "metadata": {},
   "outputs": [],
   "source": [
    "t = april_bikes.index"
   ]
  },
  {
   "cell_type": "code",
   "execution_count": null,
   "id": "8b739610",
   "metadata": {},
   "outputs": [],
   "source": [
    "df_cycling.groupby(df_cycling[\"Datetime\"].dt.hour)[\"100035541 (Neutor)\"].sum().plot(kind='bar', rot=0, ax=axs)"
   ]
  },
  {
   "attachments": {},
   "cell_type": "markdown",
   "id": "43d9a4e6",
   "metadata": {},
   "source": [
    "## Rain data"
   ]
  },
  {
   "cell_type": "code",
   "execution_count": 8,
   "id": "81227792",
   "metadata": {},
   "outputs": [],
   "source": [
    "df_rain = pd.read_sql_table('rain', 'sqlite:///data/my_data.sqlite', index_col=[\"MESS_DATUM\"], parse_dates=[\"MESS_DATUM\"])"
   ]
  },
  {
   "cell_type": "code",
   "execution_count": 14,
   "id": "06412df9",
   "metadata": {},
   "outputs": [
    {
     "data": {
      "text/plain": [
       "-999.0"
      ]
     },
     "execution_count": 14,
     "metadata": {},
     "output_type": "execute_result"
    }
   ],
   "source": [
    "df_rain[\"RWS_10\"].min()"
   ]
  },
  {
   "cell_type": "code",
   "execution_count": 15,
   "id": "085304de",
   "metadata": {},
   "outputs": [
    {
     "data": {
      "text/plain": [
       "0.0"
      ]
     },
     "execution_count": 15,
     "metadata": {},
     "output_type": "execute_result"
    }
   ],
   "source": [
    "df_rain[\"2020-04-01\":\"2020-04-30\"][\"RWS_10\"].min()"
   ]
  },
  {
   "cell_type": "code",
   "execution_count": null,
   "id": "d2415b6c",
   "metadata": {},
   "outputs": [],
   "source": [
    "df_rain.resample(\"1D\").sum()[\"2020-04-01\":\"2020-04-30\"]"
   ]
  },
  {
   "cell_type": "code",
   "execution_count": 9,
   "id": "4cf2b3bf",
   "metadata": {},
   "outputs": [
    {
     "name": "stderr",
     "output_type": "stream",
     "text": [
      "C:\\Users\\fabiw\\AppData\\Local\\Temp\\ipykernel_16504\\1751322442.py:1: FutureWarning: The default value of numeric_only in DataFrameGroupBy.sum is deprecated. In a future version, numeric_only will default to False. Either specify numeric_only or select only columns which should be valid for the function.\n",
      "  april_rain = df_rain.resample(\"1D\").sum()[\"2020-04-01\":\"2020-04-30\"][\"RWS_DAU_10\"]\n"
     ]
    }
   ],
   "source": [
    "april_rain_duration = df_rain.resample(\"1D\").sum()[\"2020-04-01\":\"2020-04-30\"][\"RWS_DAU_10\"]"
   ]
  },
  {
   "cell_type": "code",
   "execution_count": 12,
   "id": "c2e2f672",
   "metadata": {},
   "outputs": [
    {
     "name": "stderr",
     "output_type": "stream",
     "text": [
      "C:\\Users\\fabiw\\AppData\\Local\\Temp\\ipykernel_16504\\2676560937.py:1: FutureWarning: The default value of numeric_only in DataFrameGroupBy.sum is deprecated. In a future version, numeric_only will default to False. Either specify numeric_only or select only columns which should be valid for the function.\n",
      "  april_rain_amount = df_rain.resample(\"1D\").sum()[\"2020-04-01\":\"2020-04-30\"][\"RWS_10\"]\n"
     ]
    }
   ],
   "source": [
    "april_rain_amount = df_rain.resample(\"1D\").sum()[\"2020-04-01\":\"2020-04-30\"][\"RWS_10\"]"
   ]
  },
  {
   "attachments": {},
   "cell_type": "markdown",
   "id": "df18ae51",
   "metadata": {},
   "source": [
    "## Plotting"
   ]
  },
  {
   "cell_type": "code",
   "execution_count": 13,
   "id": "6cce6e0d",
   "metadata": {},
   "outputs": [
    {
     "data": {
      "image/png": "[encoded data removed]",
      "text/plain": [
       "<Figure size 1200x400 with 2 Axes>"
      ]
     },
     "metadata": {},
     "output_type": "display_data"
    }
   ],
   "source": [
    "fig, ax1 = plt.subplots(figsize=(12, 4))\n",
    "\n",
    "color = 'tab:red'\n",
    "ax1.set_xlabel('day')\n",
    "ax1.set_ylabel('# of bicycles', color=color)\n",
    "ax1.plot(t, april_bikes, color=color)\n",
    "ax1.tick_params(axis='y', labelcolor=color)\n",
    "\n",
    "ax2 = ax1.twinx()  # instantiate a second axes that shares the same x-axis\n",
    "\n",
    "color = 'tab:blue'\n",
    "ax2.set_ylabel('rain duration (min)', color=color)  # we already handled the x-label with ax1\n",
    "ax2.plot(t, april_rain_amount, color=color)\n",
    "ax2.tick_params(axis='y', labelcolor=color)\n",
    "\n",
    "fig.tight_layout()  # otherwise the right y-label is slightly clipped"
   ]
  },
  {
   "attachments": {},
   "cell_type": "markdown",
   "id": "32b5f175",
   "metadata": {},
   "source": [
    "## Cleaning"
   ]
  },
  {
   "cell_type": "code",
   "execution_count": null,
   "id": "870eb43a",
   "metadata": {},
   "outputs": [],
   "source": [
    "df_rain[\"RWS_10\"].min()"
   ]
  },
  {
   "cell_type": "code",
   "execution_count": null,
   "id": "180dc8fb",
   "metadata": {},
   "outputs": [],
   "source": [
    "idx_erroneous_rows = df_rain[df_rain[\"RWS_10\"] < 0].index"
   ]
  },
  {
   "cell_type": "code",
   "execution_count": null,
   "id": "14efb572",
   "metadata": {},
   "outputs": [],
   "source": [
    "cleaned = df_rain.drop(idx_erroneous_rows, axis=0)"
   ]
  },
  {
   "cell_type": "code",
   "execution_count": null,
   "id": "81d922e3",
   "metadata": {},
   "outputs": [],
   "source": [
    "cleaned.groupby(cleaned[\"MESS_DATUM\"].dt.year)[\"RWS_10\"].sum()"
   ]
  },
  {
   "cell_type": "code",
   "execution_count": null,
   "id": "3a0290bf",
   "metadata": {},
   "outputs": [],
   "source": [
    "cleaned.groupby(cleaned[\"MESS_DATUM\"].dt.hour)[\"RWS_10\"].sum().plot(kind='bar', rot=0, ax=axs)"
   ]
  },
  {
   "cell_type": "code",
   "execution_count": null,
   "id": "cae79848",
   "metadata": {},
   "outputs": [],
   "source": [
    "cleaned.head()"
   ]
  }
 ],
 "metadata": {
  "kernelspec": {
   "display_name": "Python 3 (ipykernel)",
   "language": "python",
   "name": "python3"
  },
  "language_info": {
   "codemirror_mode": {
    "name": "ipython",
    "version": 3
   },
   "file_extension": ".py",
   "mimetype": "text/x-python",
   "name": "python",
   "nbconvert_exporter": "python",
   "pygments_lexer": "ipython3",
   "version": "3.11.3"
  }
 },
 "nbformat": 4,
 "nbformat_minor": 5
}
